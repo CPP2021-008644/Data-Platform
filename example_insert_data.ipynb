{
 "cells": [
  {
   "cell_type": "markdown",
   "id": "03e3f70a",
   "metadata": {},
   "source": [
    "<img src=\"https://afs-services.com/wp-content/uploads/2025/09/dp_banner.png\" alt=\"RV Banner\" style=\"width: 100%; height: auto; display: block;\">\n",
    "\n",
    "## "
   ]
  },
  {
   "cell_type": "code",
   "execution_count": 1,
   "id": "4de693aa",
   "metadata": {},
   "outputs": [],
   "source": [
    "from src.bdptplt import DataPlatformDB\n",
    "import pandas as pd\n",
    "from datetime import datetime as dt, timedelta, time\n",
    "import pytz\n",
    "import numpy as np"
   ]
  },
  {
   "cell_type": "code",
   "execution_count": 8,
   "id": "33ee4f71",
   "metadata": {},
   "outputs": [],
   "source": [
    "# Use nest_asyncio to patch the loop and avoid asyncio errors inside Notebook\n",
    "import nest_asyncio\n",
    "nest_asyncio.apply()"
   ]
  },
  {
   "cell_type": "code",
   "execution_count": 2,
   "id": "48767868",
   "metadata": {},
   "outputs": [],
   "source": [
    "%load_ext dotenv\n",
    "%dotenv .env -o"
   ]
  },
  {
   "cell_type": "markdown",
   "id": "ae0c8266",
   "metadata": {},
   "source": [
    "#### Steps to create new table in DDBB\n",
    "**Notes:**\n",
    "- The table must have a primary key named `dtime`.\n",
    "\n",
    "**Steps**\n",
    "\n",
    "0. Go to `prebd/tslibv2.py`.  \n",
    "1. Add the table in the `TableCols` dictionary.  \n",
    "2. Add data in the `timescale_config` dictionary.  \n",
    "3. If `dtime` is of type `date`, add the table name in the `tabtype_date` list. \n",
    "4. Assign primary keys using the `get_primary_key` function.  \n",
    "5. Assign the type of each column in the `createdbifneeded` function.  \n",
    "   - **IMPORTANT:** Each column name in the entire database can only have one type.  \n",
    "   - **NOTE:** If it is a numeric type, you don’t need to add it.  \n",
    "6. Add the compression type in `enable_compression` *(OPTIONAL).*  \n",
    "7. Run the upserter to save data into the table.  "
   ]
  },
  {
   "cell_type": "markdown",
   "id": "1fa61923",
   "metadata": {},
   "source": [
    "#### Create DataPlarformDB instance"
   ]
  },
  {
   "cell_type": "code",
   "execution_count": null,
   "id": "17fb35b7",
   "metadata": {},
   "outputs": [],
   "source": [
    "db = DataPlatformDB()"
   ]
  },
  {
   "cell_type": "markdown",
   "id": "05ebed3e",
   "metadata": {},
   "source": [
    "### Insert data into BBDD"
   ]
  },
  {
   "cell_type": "markdown",
   "id": "6f1aa63d",
   "metadata": {},
   "source": [
    "Generate a random t2t df:"
   ]
  },
  {
   "cell_type": "code",
   "execution_count": 18,
   "id": "d81feb99",
   "metadata": {},
   "outputs": [],
   "source": [
    "import random\n",
    "\n",
    "def create_dummy_df(n, contract_name):\n",
    "    start_date = dt.combine(dt.now().date(), time(9, 0))  # Market opens at 9:00 AM\n",
    "\n",
    "    # Generate random datetime values during the trading day\n",
    "    dtime = [start_date + timedelta(seconds=random.randint(0, 32400)) for _ in range(n)]\n",
    "    dtime.sort()  # Optional: sort by time\n",
    "\n",
    "    # Simulate a starting price and small random walk (to mimic market noise)\n",
    "    price = [100 + random.gauss(0, 0.5)]  # start around 100 with small volatility\n",
    "    for _ in range(1, n):\n",
    "        price.append(price[-1] + random.gauss(0, 0.5))  # continue random walk\n",
    "\n",
    "    # Simulate trade sizes (e.g., integers from 1 to 1000 shares/contracts)\n",
    "    size = [random.randint(1, n) for _ in range(n)]\n",
    "\n",
    "    # Create DataFrame\n",
    "    df = pd.DataFrame({\n",
    "        'dtime': dtime,\n",
    "        'contract_id': range(0, n),\n",
    "        'contract_name' : contract_name,\n",
    "        'price': price,\n",
    "        'size': size,\n",
    "    })\n",
    "\n",
    "    print(df.head())\n",
    "\n",
    "    return df.copy()"
   ]
  },
  {
   "cell_type": "code",
   "execution_count": null,
   "id": "b5e2a1c8",
   "metadata": {},
   "outputs": [],
   "source": [
    "df1 = create_dummy_df(100, 'dummy_contract')"
   ]
  },
  {
   "cell_type": "markdown",
   "id": "7bde3214",
   "metadata": {},
   "source": [
    "Insert data"
   ]
  },
  {
   "cell_type": "code",
   "execution_count": null,
   "id": "e177a70c",
   "metadata": {},
   "outputs": [],
   "source": [
    "db.upserter(df=df1, tabtype=\"prob\", instrument='PRB')"
   ]
  },
  {
   "cell_type": "markdown",
   "id": "110b074e",
   "metadata": {},
   "source": [
    "### Load data from BBDD"
   ]
  },
  {
   "cell_type": "markdown",
   "id": "1b8a66c1",
   "metadata": {},
   "source": [
    "Create LoaderInput instance"
   ]
  },
  {
   "cell_type": "code",
   "execution_count": 10,
   "id": "84392bf4",
   "metadata": {},
   "outputs": [],
   "source": [
    "LoaderInput = DataPlatformDB.loader_input\n",
    "input_obj = LoaderInput(table=\"PRB_prob\")"
   ]
  },
  {
   "cell_type": "markdown",
   "id": "4578c3ad",
   "metadata": {},
   "source": [
    "Load data"
   ]
  },
  {
   "cell_type": "code",
   "execution_count": null,
   "id": "85c2db51",
   "metadata": {},
   "outputs": [],
   "source": [
    "db.loader([input_obj])"
   ]
  }
 ],
 "metadata": {
  "kernelspec": {
   "display_name": "base",
   "language": "python",
   "name": "python3"
  },
  "language_info": {
   "codemirror_mode": {
    "name": "ipython",
    "version": 3
   },
   "file_extension": ".py",
   "mimetype": "text/x-python",
   "name": "python",
   "nbconvert_exporter": "python",
   "pygments_lexer": "ipython3",
   "version": "3.11.4"
  }
 },
 "nbformat": 4,
 "nbformat_minor": 5
}
